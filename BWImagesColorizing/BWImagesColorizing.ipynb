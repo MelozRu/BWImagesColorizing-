{
  "cells": [
    {
      "cell_type": "code",
      "execution_count": null,
      "metadata": {
        "id": "AFWAbka49ADb"
      },
      "outputs": [],
      "source": [
        "from keras.layers import Conv2D, Conv2DTranspose, UpSampling2D\n",
        "from keras.layers import Activation, Dense, Dropout, Flatten, InputLayer\n",
        "from tensorflow.keras.layers import BatchNormalization\n",
        "from keras.callbacks import TensorBoard\n",
        "from keras.models import Sequential\n",
        "from keras.preprocessing.image import ImageDataGenerator, array_to_img, img_to_array, load_img\n",
        "from skimage.color import rgb2lab, lab2rgb, rgb2gray\n",
        "from skimage.io import imsave\n",
        "import numpy as np\n",
        "import os\n",
        "import random\n",
        "import tensorflow as tf"
      ]
    },
    {
      "cell_type": "code",
      "execution_count": null,
      "metadata": {
        "collapsed": true,
        "id": "eQO4ZOS09ADd"
      },
      "outputs": [],
      "source": [
        "# загружаем изображения для тренировки \n",
        "X = []\n",
        "for filename in os.listdir('/Train'):\n",
        "    img = load_img('/Train/'+filename)\n",
        "    img = img.resize( (256, 256), Image.BILINEAR)\n",
        "    X.append(img_to_array(img))\n",
        "X = np.array(X, dtype=float)\n",
        "\n",
        "# нормализуем значения в массиве к диапазону [-1,1] \n",
        "split = int(0.95*len(X))\n",
        "Xtrain = X[:split]\n",
        "Xtrain = 1.0/255*Xtrain"
      ]
    },
    {
      "cell_type": "code",
      "execution_count": null,
      "metadata": {
        "collapsed": true,
        "id": "cH6sgJFx9ADe"
      },
      "outputs": [],
      "source": [
        "model = Sequential()\n",
        "model.add(InputLayer(input_shape=(256, 256, 1)))\n",
        "model.add(Conv2D(64, (3, 3), activation='relu', padding='same'))\n",
        "model.add(Conv2D(64, (3, 3), activation='relu', padding='same', strides=2))\n",
        "model.add(Conv2D(128, (3, 3), activation='relu', padding='same'))\n",
        "model.add(Conv2D(128, (3, 3), activation='relu', padding='same', strides=2))\n",
        "model.add(Conv2D(256, (3, 3), activation='relu', padding='same'))\n",
        "model.add(Conv2D(256, (3, 3), activation='relu', padding='same', strides=2))\n",
        "model.add(Conv2D(512, (3, 3), activation='relu', padding='same'))\n",
        "model.add(Conv2D(256, (3, 3), activation='relu', padding='same'))\n",
        "model.add(Conv2D(128, (3, 3), activation='relu', padding='same'))\n",
        "model.add(UpSampling2D((2, 2)))\n",
        "model.add(Conv2D(64, (3, 3), activation='relu', padding='same'))\n",
        "model.add(UpSampling2D((2, 2)))\n",
        "model.add(Conv2D(32, (3, 3), activation='relu', padding='same'))\n",
        "model.add(Conv2D(2, (3, 3), activation='tanh', padding='same'))\n",
        "model.add(UpSampling2D((2, 2)))\n",
        "model.compile(optimizer='rmsprop', loss='mse')"
      ]
    },
    {
      "cell_type": "code",
      "execution_count": null,
      "metadata": {
        "id": "VaL5zJG39ADf"
      },
      "outputs": [],
      "source": [
        "# изменяем каждое следующие изображение от\n",
        "# предидущего, чтобы нейросеть обучалась быстрее\n",
        "datagen = ImageDataGenerator(\n",
        "        shear_range=0.15,\n",
        "        zoom_range=0.25,\n",
        "        rotation_range=25,\n",
        "        horizontal_flip=True)\n",
        "\n",
        "# \n",
        "batch_size = 20\n",
        "def image_a_b_gen(batch_size):\n",
        "    for batch in datagen.flow(Xtrain, batch_size=batch_size):\n",
        "        lab_batch = rgb2lab(batch)\n",
        "        X_batch = lab_batch[:,:,:,0]\n",
        "        Y_batch = lab_batch[:,:,:,1:] / 128\n",
        "        yield (X_batch.reshape(X_batch.shape+(1,)), Y_batch)\n",
        "\n",
        "# начинаем обучение нейросети      \n",
        "tensorboard = TensorBoard(log_dir=\"output/first_run\")\n",
        "model.fit_generator(image_a_b_gen(batch_size), callbacks=[tensorboard], epochs=1, steps_per_epoch=20)"
      ]
    },
    {
      "cell_type": "code",
      "execution_count": null,
      "metadata": {
        "collapsed": true,
        "id": "b5GXLxCl9ADf"
      },
      "outputs": [],
      "source": [
        "# сохраняем обученную нейросеть\n",
        "model_json = model.to_json()\n",
        "with open(\"model.json\", \"w\") as json_file:\n",
        "    json_file.write(model_json)\n",
        "model.save_weights(\"model.h5\")"
      ]
    },
    {
      "cell_type": "code",
      "execution_count": null,
      "metadata": {
        "id": "baX4POIZ9ADg"
      },
      "outputs": [],
      "source": [
        "# загружаем черно-белые изображения в массив\n",
        "# и нормализуем значения в массиве к диапазону [-1,1]\n",
        "colorize = []\n",
        "for filename in os.listdir('/BWimages/'):\n",
        "  WBimg = load_img('/BWimages/'+filename)\n",
        "  WBimg = img.resize( (256, 256), Image.BILINEAR)\n",
        "  colorize.append(img_to_array(WBimg))\n",
        "\n",
        "colorize = np.array(colorize, dtype=float)\n",
        "colorize = rgb2lab(1.0/255*colorize)[:,:,:,0]\n",
        "colorize = color_me.reshape(colorize.shape+(1,))\n",
        "\n",
        "# на выходе получили 2 цветовые компоненты и увеличили их на 128\n",
        "# так как был диапазон [-1,1] а нужен диапазон [-128,127]\n",
        "output = model.predict(colorize)\n",
        "output = output * 128\n",
        "\n",
        "# формируем вспомогательную коллекци, где будет представленно\n",
        "# цветное изображение и помещаем туда яркостную составляющую\n",
        "# и цветовые составляющие. Сохраняем цветное изображение\n",
        "for i in range(len(output)):\n",
        "    cur = np.zeros((256, 256, 3))\n",
        "    cur[:,:,0] = colorize[i][:,:,0]\n",
        "    cur[:,:,1:] = output[i]\n",
        "    imsave(\"/result/img\"+str(i)+\".png\", lab2rgb(cur))"
      ]
    }
  ],
  "metadata": {
    "kernelspec": {
      "display_name": "Python 3",
      "language": "python",
      "name": "python3"
    },
    "language_info": {
      "codemirror_mode": {
        "name": "ipython",
        "version": 3
      },
      "file_extension": ".py",
      "mimetype": "text/x-python",
      "name": "python",
      "nbconvert_exporter": "python",
      "pygments_lexer": "ipython3",
      "version": "3.6.1"
    },
    "colab": {
      "name": "WBImagesColorizing.ipynb",
      "provenance": [],
      "collapsed_sections": []
    },
    "accelerator": "GPU"
  },
  "nbformat": 4,
  "nbformat_minor": 0
}